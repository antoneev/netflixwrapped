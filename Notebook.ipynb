{
 "cells": [
  {
   "cell_type": "code",
   "execution_count": 1,
   "metadata": {},
   "outputs": [],
   "source": [
    "import pandas as pd\n",
    "import numpy as np\n",
    "from matplotlib import pyplot as plt\n",
    "%matplotlib inline\n",
    "import matplotlib \n",
    "matplotlib.rcParams[\"figure.figsize\"] = (20,10)"
   ]
  },
  {
   "cell_type": "code",
   "execution_count": 2,
   "metadata": {},
   "outputs": [
    {
     "data": {
      "text/html": [
       "<div>\n",
       "<style scoped>\n",
       "    .dataframe tbody tr th:only-of-type {\n",
       "        vertical-align: middle;\n",
       "    }\n",
       "\n",
       "    .dataframe tbody tr th {\n",
       "        vertical-align: top;\n",
       "    }\n",
       "\n",
       "    .dataframe thead th {\n",
       "        text-align: right;\n",
       "    }\n",
       "</style>\n",
       "<table border=\"1\" class=\"dataframe\">\n",
       "  <thead>\n",
       "    <tr style=\"text-align: right;\">\n",
       "      <th></th>\n",
       "      <th>Title</th>\n",
       "      <th>Duration</th>\n",
       "      <th>Date</th>\n",
       "      <th>Series Title</th>\n",
       "      <th>Movie/Series</th>\n",
       "    </tr>\n",
       "  </thead>\n",
       "  <tbody>\n",
       "    <tr>\n",
       "      <th>0</th>\n",
       "      <td>Ava</td>\n",
       "      <td>5811</td>\n",
       "      <td>12/8/20</td>\n",
       "      <td>NaN</td>\n",
       "      <td>Movie</td>\n",
       "    </tr>\n",
       "    <tr>\n",
       "      <th>1</th>\n",
       "      <td>Triple 9</td>\n",
       "      <td>6920</td>\n",
       "      <td>12/8/20</td>\n",
       "      <td>NaN</td>\n",
       "      <td>Movie</td>\n",
       "    </tr>\n",
       "    <tr>\n",
       "      <th>2</th>\n",
       "      <td>Tyler Perry's Madea's Big Happy Family</td>\n",
       "      <td>6375</td>\n",
       "      <td>12/8/20</td>\n",
       "      <td>NaN</td>\n",
       "      <td>Movie</td>\n",
       "    </tr>\n",
       "    <tr>\n",
       "      <th>3</th>\n",
       "      <td>Season 4:  The Hugest Period Ever</td>\n",
       "      <td>1613</td>\n",
       "      <td>12/7/20</td>\n",
       "      <td>Big Mouth</td>\n",
       "      <td>Series</td>\n",
       "    </tr>\n",
       "    <tr>\n",
       "      <th>4</th>\n",
       "      <td>Are You The One: Season 1:  The Temptation of ...</td>\n",
       "      <td>2435</td>\n",
       "      <td>12/7/20</td>\n",
       "      <td>Are You The One</td>\n",
       "      <td>Series</td>\n",
       "    </tr>\n",
       "  </tbody>\n",
       "</table>\n",
       "</div>"
      ],
      "text/plain": [
       "                                               Title  Duration     Date  \\\n",
       "0                                               Ava       5811  12/8/20   \n",
       "1                                           Triple 9      6920  12/8/20   \n",
       "2            Tyler Perry's Madea's Big Happy Family       6375  12/8/20   \n",
       "3                  Season 4:  The Hugest Period Ever      1613  12/7/20   \n",
       "4  Are You The One: Season 1:  The Temptation of ...      2435  12/7/20   \n",
       "\n",
       "        Series Title Movie/Series  \n",
       "0                NaN        Movie  \n",
       "1                NaN        Movie  \n",
       "2                NaN        Movie  \n",
       "3         Big Mouth        Series  \n",
       "4   Are You The One        Series  "
      ]
     },
     "execution_count": 2,
     "metadata": {},
     "output_type": "execute_result"
    }
   ],
   "source": [
    "df1 = pd.read_csv('finalDataframe.csv') \n",
    "df1.head()"
   ]
  },
  {
   "cell_type": "markdown",
   "metadata": {},
   "source": [
    "# Movies vs Series Count"
   ]
  },
  {
   "cell_type": "code",
   "execution_count": 3,
   "metadata": {},
   "outputs": [
    {
     "data": {
      "text/plain": [
       "Series    1404\n",
       "Movie      621\n",
       "Name: Movie/Series, dtype: int64"
      ]
     },
     "execution_count": 3,
     "metadata": {},
     "output_type": "execute_result"
    }
   ],
   "source": [
    "df1['Movie/Series'].value_counts()"
   ]
  },
  {
   "cell_type": "markdown",
   "metadata": {},
   "source": [
    "# Top 5 Series"
   ]
  },
  {
   "cell_type": "code",
   "execution_count": 4,
   "metadata": {},
   "outputs": [
    {
     "data": {
      "text/plain": [
       " Girlfriends                    99\n",
       " Shameless (U.S.)               95\n",
       " The Parkers                    79\n",
       " Quantico                       51\n",
       " Grey's Anatomy                 45\n",
       " Beauty & the Beast             40\n",
       " Avatar: The Last Airbender     39\n",
       " Queen of the South             37\n",
       " Kingdom                        37\n",
       " Sam & Cat                      31\n",
       "Name: Series Title, dtype: int64"
      ]
     },
     "execution_count": 4,
     "metadata": {},
     "output_type": "execute_result"
    }
   ],
   "source": [
    "df1['Series Title'].value_counts().head(10)"
   ]
  },
  {
   "cell_type": "markdown",
   "metadata": {},
   "source": [
    "# Top 5 Days of viewing and Duration"
   ]
  },
  {
   "cell_type": "code",
   "execution_count": 5,
   "metadata": {},
   "outputs": [
    {
     "data": {
      "text/plain": [
       "5/21/20    40\n",
       "9/20/20    25\n",
       "8/3/20     25\n",
       "5/8/20     21\n",
       "9/9/20     21\n",
       "Name: Date, dtype: int64"
      ]
     },
     "execution_count": 5,
     "metadata": {},
     "output_type": "execute_result"
    }
   ],
   "source": [
    "df1['Date'].value_counts().head(5)"
   ]
  },
  {
   "cell_type": "code",
   "execution_count": 6,
   "metadata": {},
   "outputs": [
    {
     "data": {
      "text/html": [
       "<div>\n",
       "<style scoped>\n",
       "    .dataframe tbody tr th:only-of-type {\n",
       "        vertical-align: middle;\n",
       "    }\n",
       "\n",
       "    .dataframe tbody tr th {\n",
       "        vertical-align: top;\n",
       "    }\n",
       "\n",
       "    .dataframe thead th {\n",
       "        text-align: right;\n",
       "    }\n",
       "</style>\n",
       "<table border=\"1\" class=\"dataframe\">\n",
       "  <thead>\n",
       "    <tr style=\"text-align: right;\">\n",
       "      <th></th>\n",
       "      <th>Duration</th>\n",
       "    </tr>\n",
       "    <tr>\n",
       "      <th>Date</th>\n",
       "      <th></th>\n",
       "    </tr>\n",
       "  </thead>\n",
       "  <tbody>\n",
       "    <tr>\n",
       "      <th>1/10/20</th>\n",
       "      <td>3450</td>\n",
       "    </tr>\n",
       "    <tr>\n",
       "      <th>1/11/20</th>\n",
       "      <td>14462</td>\n",
       "    </tr>\n",
       "    <tr>\n",
       "      <th>1/12/20</th>\n",
       "      <td>14407</td>\n",
       "    </tr>\n",
       "    <tr>\n",
       "      <th>1/13/20</th>\n",
       "      <td>10522</td>\n",
       "    </tr>\n",
       "    <tr>\n",
       "      <th>1/14/20</th>\n",
       "      <td>7032</td>\n",
       "    </tr>\n",
       "  </tbody>\n",
       "</table>\n",
       "</div>"
      ],
      "text/plain": [
       "         Duration\n",
       "Date             \n",
       "1/10/20      3450\n",
       "1/11/20     14462\n",
       "1/12/20     14407\n",
       "1/13/20     10522\n",
       "1/14/20      7032"
      ]
     },
     "execution_count": 6,
     "metadata": {},
     "output_type": "execute_result"
    }
   ],
   "source": [
    "max_duration = df1.groupby(['Date']).agg('sum')\n",
    "max_duration.head()"
   ]
  },
  {
   "cell_type": "code",
   "execution_count": 7,
   "metadata": {},
   "outputs": [
    {
     "data": {
      "text/plain": [
       "Date\n",
       "5/21/20    63596\n",
       "9/20/20    55412\n",
       "8/31/20    47455\n",
       "8/3/20     44926\n",
       "5/8/20     41328\n",
       "9/8/20     41059\n",
       "8/4/20     37894\n",
       "Name: Duration, dtype: int64"
      ]
     },
     "execution_count": 7,
     "metadata": {},
     "output_type": "execute_result"
    }
   ],
   "source": [
    "max_duration['Duration'].nlargest(7)"
   ]
  },
  {
   "cell_type": "markdown",
   "metadata": {},
   "source": [
    "# Number of Unique Series Watched"
   ]
  },
  {
   "cell_type": "code",
   "execution_count": 8,
   "metadata": {},
   "outputs": [
    {
     "data": {
      "text/plain": [
       "160"
      ]
     },
     "execution_count": 8,
     "metadata": {},
     "output_type": "execute_result"
    }
   ],
   "source": [
    "df1['Series Title'].nunique()"
   ]
  },
  {
   "cell_type": "markdown",
   "metadata": {},
   "source": [
    "# First Watched for the Year"
   ]
  },
  {
   "cell_type": "code",
   "execution_count": 9,
   "metadata": {},
   "outputs": [
    {
     "data": {
      "text/html": [
       "<div>\n",
       "<style scoped>\n",
       "    .dataframe tbody tr th:only-of-type {\n",
       "        vertical-align: middle;\n",
       "    }\n",
       "\n",
       "    .dataframe tbody tr th {\n",
       "        vertical-align: top;\n",
       "    }\n",
       "\n",
       "    .dataframe thead th {\n",
       "        text-align: right;\n",
       "    }\n",
       "</style>\n",
       "<table border=\"1\" class=\"dataframe\">\n",
       "  <thead>\n",
       "    <tr style=\"text-align: right;\">\n",
       "      <th></th>\n",
       "      <th>Title</th>\n",
       "      <th>Duration</th>\n",
       "      <th>Date</th>\n",
       "      <th>Series Title</th>\n",
       "      <th>Movie/Series</th>\n",
       "    </tr>\n",
       "  </thead>\n",
       "  <tbody>\n",
       "    <tr>\n",
       "      <th>2015</th>\n",
       "      <td>Season 3:  Sea Spray</td>\n",
       "      <td>2521</td>\n",
       "      <td>1/7/20</td>\n",
       "      <td>Colony</td>\n",
       "      <td>Series</td>\n",
       "    </tr>\n",
       "    <tr>\n",
       "      <th>2016</th>\n",
       "      <td>Season 3:  The Big Empty</td>\n",
       "      <td>2488</td>\n",
       "      <td>1/7/20</td>\n",
       "      <td>Colony</td>\n",
       "      <td>Series</td>\n",
       "    </tr>\n",
       "    <tr>\n",
       "      <th>2017</th>\n",
       "      <td>Season 1:  The Birthweek Song</td>\n",
       "      <td>1415</td>\n",
       "      <td>1/6/20</td>\n",
       "      <td>Victorious</td>\n",
       "      <td>Series</td>\n",
       "    </tr>\n",
       "    <tr>\n",
       "      <th>2018</th>\n",
       "      <td>Season 1:  Jade Dumps Beck</td>\n",
       "      <td>1415</td>\n",
       "      <td>1/6/20</td>\n",
       "      <td>Victorious</td>\n",
       "      <td>Series</td>\n",
       "    </tr>\n",
       "    <tr>\n",
       "      <th>2019</th>\n",
       "      <td>Season 1:  Tori the Zombie</td>\n",
       "      <td>1431</td>\n",
       "      <td>1/5/20</td>\n",
       "      <td>Victorious</td>\n",
       "      <td>Series</td>\n",
       "    </tr>\n",
       "    <tr>\n",
       "      <th>2020</th>\n",
       "      <td>Season 1:  Beck's Big Break</td>\n",
       "      <td>1415</td>\n",
       "      <td>1/5/20</td>\n",
       "      <td>NaN</td>\n",
       "      <td>Movie</td>\n",
       "    </tr>\n",
       "    <tr>\n",
       "      <th>2021</th>\n",
       "      <td>Doing Hard Time</td>\n",
       "      <td>6060</td>\n",
       "      <td>1/3/20</td>\n",
       "      <td>NaN</td>\n",
       "      <td>Movie</td>\n",
       "    </tr>\n",
       "    <tr>\n",
       "      <th>2022</th>\n",
       "      <td>Season 1:  Stage Fighting</td>\n",
       "      <td>1414</td>\n",
       "      <td>1/3/20</td>\n",
       "      <td>Victorious</td>\n",
       "      <td>Series</td>\n",
       "    </tr>\n",
       "    <tr>\n",
       "      <th>2023</th>\n",
       "      <td>Season 1:  The Bird Scene</td>\n",
       "      <td>1425</td>\n",
       "      <td>1/3/20</td>\n",
       "      <td>Victorious</td>\n",
       "      <td>Series</td>\n",
       "    </tr>\n",
       "    <tr>\n",
       "      <th>2024</th>\n",
       "      <td>Season 1:  Pilot</td>\n",
       "      <td>1420</td>\n",
       "      <td>1/3/20</td>\n",
       "      <td>Victorious</td>\n",
       "      <td>Series</td>\n",
       "    </tr>\n",
       "  </tbody>\n",
       "</table>\n",
       "</div>"
      ],
      "text/plain": [
       "                              Title  Duration    Date  Series Title  \\\n",
       "2015           Season 3:  Sea Spray      2521  1/7/20       Colony    \n",
       "2016       Season 3:  The Big Empty      2488  1/7/20       Colony    \n",
       "2017  Season 1:  The Birthweek Song      1415  1/6/20   Victorious    \n",
       "2018     Season 1:  Jade Dumps Beck      1415  1/6/20   Victorious    \n",
       "2019     Season 1:  Tori the Zombie      1431  1/5/20   Victorious    \n",
       "2020    Season 1:  Beck's Big Break      1415  1/5/20           NaN   \n",
       "2021               Doing Hard Time       6060  1/3/20           NaN   \n",
       "2022      Season 1:  Stage Fighting      1414  1/3/20   Victorious    \n",
       "2023      Season 1:  The Bird Scene      1425  1/3/20   Victorious    \n",
       "2024               Season 1:  Pilot      1420  1/3/20   Victorious    \n",
       "\n",
       "     Movie/Series  \n",
       "2015       Series  \n",
       "2016       Series  \n",
       "2017       Series  \n",
       "2018       Series  \n",
       "2019       Series  \n",
       "2020        Movie  \n",
       "2021        Movie  \n",
       "2022       Series  \n",
       "2023       Series  \n",
       "2024       Series  "
      ]
     },
     "execution_count": 9,
     "metadata": {},
     "output_type": "execute_result"
    }
   ],
   "source": [
    "df1.tail(10)"
   ]
  },
  {
   "cell_type": "markdown",
   "metadata": {},
   "source": [
    "# First Watched for Quarantine"
   ]
  },
  {
   "cell_type": "code",
   "execution_count": 10,
   "metadata": {},
   "outputs": [
    {
     "data": {
      "text/html": [
       "<div>\n",
       "<style scoped>\n",
       "    .dataframe tbody tr th:only-of-type {\n",
       "        vertical-align: middle;\n",
       "    }\n",
       "\n",
       "    .dataframe tbody tr th {\n",
       "        vertical-align: top;\n",
       "    }\n",
       "\n",
       "    .dataframe thead th {\n",
       "        text-align: right;\n",
       "    }\n",
       "</style>\n",
       "<table border=\"1\" class=\"dataframe\">\n",
       "  <thead>\n",
       "    <tr style=\"text-align: right;\">\n",
       "      <th></th>\n",
       "      <th>Title</th>\n",
       "      <th>Duration</th>\n",
       "      <th>Date</th>\n",
       "      <th>Series Title</th>\n",
       "      <th>Movie/Series</th>\n",
       "    </tr>\n",
       "  </thead>\n",
       "  <tbody>\n",
       "    <tr>\n",
       "      <th>1811</th>\n",
       "      <td>Season 1:  TB or Not TB</td>\n",
       "      <td>1172</td>\n",
       "      <td>3/15/20</td>\n",
       "      <td>Royal Pains</td>\n",
       "      <td>Series</td>\n",
       "    </tr>\n",
       "    <tr>\n",
       "      <th>1812</th>\n",
       "      <td>Season 1:  Strategic Planning</td>\n",
       "      <td>1172</td>\n",
       "      <td>3/15/20</td>\n",
       "      <td>Royal Pains</td>\n",
       "      <td>Series</td>\n",
       "    </tr>\n",
       "    <tr>\n",
       "      <th>1813</th>\n",
       "      <td>Season 3:  Chapter Twenty-Three</td>\n",
       "      <td>1968</td>\n",
       "      <td>3/15/20</td>\n",
       "      <td>On My Block</td>\n",
       "      <td>Series</td>\n",
       "    </tr>\n",
       "    <tr>\n",
       "      <th>1814</th>\n",
       "      <td>Season 1:  There Will Be Food</td>\n",
       "      <td>1172</td>\n",
       "      <td>3/15/20</td>\n",
       "      <td>Royal Pains</td>\n",
       "      <td>Series</td>\n",
       "    </tr>\n",
       "    <tr>\n",
       "      <th>1815</th>\n",
       "      <td>Season 3:  Chapter Twenty-Two</td>\n",
       "      <td>1968</td>\n",
       "      <td>3/15/20</td>\n",
       "      <td>On My Block</td>\n",
       "      <td>Series</td>\n",
       "    </tr>\n",
       "    <tr>\n",
       "      <th>1816</th>\n",
       "      <td>Season 3:  Chapter Twenty-One</td>\n",
       "      <td>1968</td>\n",
       "      <td>3/15/20</td>\n",
       "      <td>On My Block</td>\n",
       "      <td>Series</td>\n",
       "    </tr>\n",
       "    <tr>\n",
       "      <th>1817</th>\n",
       "      <td>Season 1:  Five-O</td>\n",
       "      <td>1172</td>\n",
       "      <td>3/15/20</td>\n",
       "      <td>Better Call Saul</td>\n",
       "      <td>Series</td>\n",
       "    </tr>\n",
       "    <tr>\n",
       "      <th>1818</th>\n",
       "      <td>Season 1:  Alpine Shepherd Boy</td>\n",
       "      <td>1172</td>\n",
       "      <td>3/15/20</td>\n",
       "      <td>Better Call Saul</td>\n",
       "      <td>Series</td>\n",
       "    </tr>\n",
       "    <tr>\n",
       "      <th>1819</th>\n",
       "      <td>Season 1:  Hero</td>\n",
       "      <td>1172</td>\n",
       "      <td>3/15/20</td>\n",
       "      <td>Better Call Saul</td>\n",
       "      <td>Series</td>\n",
       "    </tr>\n",
       "  </tbody>\n",
       "</table>\n",
       "</div>"
      ],
      "text/plain": [
       "                                Title  Duration     Date        Series Title  \\\n",
       "1811          Season 1:  TB or Not TB      1172  3/15/20        Royal Pains    \n",
       "1812    Season 1:  Strategic Planning      1172  3/15/20        Royal Pains    \n",
       "1813  Season 3:  Chapter Twenty-Three      1968  3/15/20        On My Block    \n",
       "1814    Season 1:  There Will Be Food      1172  3/15/20        Royal Pains    \n",
       "1815    Season 3:  Chapter Twenty-Two      1968  3/15/20        On My Block    \n",
       "1816    Season 3:  Chapter Twenty-One      1968  3/15/20        On My Block    \n",
       "1817                Season 1:  Five-O      1172  3/15/20   Better Call Saul    \n",
       "1818   Season 1:  Alpine Shepherd Boy      1172  3/15/20   Better Call Saul    \n",
       "1819                  Season 1:  Hero      1172  3/15/20   Better Call Saul    \n",
       "\n",
       "     Movie/Series  \n",
       "1811       Series  \n",
       "1812       Series  \n",
       "1813       Series  \n",
       "1814       Series  \n",
       "1815       Series  \n",
       "1816       Series  \n",
       "1817       Series  \n",
       "1818       Series  \n",
       "1819       Series  "
      ]
     },
     "execution_count": 10,
     "metadata": {},
     "output_type": "execute_result"
    }
   ],
   "source": [
    "df1.loc[df1['Date'] == '3/15/20']"
   ]
  },
  {
   "cell_type": "markdown",
   "metadata": {},
   "source": [
    "# Duration Watched for the Year (seconds)"
   ]
  },
  {
   "cell_type": "code",
   "execution_count": 11,
   "metadata": {},
   "outputs": [
    {
     "data": {
      "text/plain": [
       "3597314"
      ]
     },
     "execution_count": 11,
     "metadata": {},
     "output_type": "execute_result"
    }
   ],
   "source": [
    "max_duration['Duration'].sum()"
   ]
  },
  {
   "cell_type": "code",
   "execution_count": null,
   "metadata": {},
   "outputs": [],
   "source": []
  }
 ],
 "metadata": {
  "kernelspec": {
   "display_name": "Python 3",
   "language": "python",
   "name": "python3"
  },
  "language_info": {
   "codemirror_mode": {
    "name": "ipython",
    "version": 3
   },
   "file_extension": ".py",
   "mimetype": "text/x-python",
   "name": "python",
   "nbconvert_exporter": "python",
   "pygments_lexer": "ipython3",
   "version": "3.7.6"
  }
 },
 "nbformat": 4,
 "nbformat_minor": 4
}
